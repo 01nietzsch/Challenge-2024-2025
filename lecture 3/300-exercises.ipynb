{
 "cells": [
  {
   "cell_type": "markdown",
   "metadata": {},
   "source": [
    "# Exercise\n",
    "\n",
    "Your job is to create a `class` called `Preprocessor`, which should have the following functionalities:\n",
    "\n",
    "- read a file from its filename\n",
    "- store the raw data as an attribute\n",
    "- do encoding, either one hot encoder or label encoder\n",
    "- use minmax scaler or standard scaler\n",
    "- plot data on either a new axis or previously given one\n",
    "- return the distance between any two points in the processed data"
   ]
  },
  {
   "cell_type": "markdown",
   "metadata": {},
   "source": [
    "## `sklearn.preprocessing`\n",
    "\n",
    "Up until this point we have used only manual preprocessing functions. Whilst this is acceptable and also useful for beginner programmers, it can be computationally inefficient, and manually coding many different encoding algorithms is usually not a good use of time, and also allows for preprocessing mistakes.\n",
    "\n",
    "As such, we introduce the users to a software package that will be used in the rest of the lectures, `scikit-learn`. This is a python package used for simple machine learning tasks, and it is designed to be highly optimised.\n",
    "\n",
    "There are many different processing functions that can be found in the `sklearn.preprocessing` module, the documentation for which can be found at this link: [https://scikit-learn.org/stable/modules/preprocessing.html](https://scikit-learn.org/stable/modules/preprocessing.html).\n",
    "\n",
    "<b>The answers to this exercise will contain some examples of `sklearn.preprocessing` functions</b>, but it is important for users to to remember that coding simple functions like scalers and encoders has merits because it allows the user total control over the algorithms implemented. In the case of preprocessing, there is not a single <i>right way</i> of preprocessing the data, and hence we encourage users to only use `sklearn.preprocessing` functions when they fully understand the algorithms that have been implemented."
   ]
  },
  {
   "cell_type": "code",
   "execution_count": null,
   "metadata": {},
   "outputs": [],
   "source": [
    "import pandas as pd\n",
    "import numpy as np\n",
    "import matplotlib.pyplot as plt\n",
    "\n",
    "class Preprocessor:\n",
    "    def __init__(self, fname: str, **kwargs):\n",
    "        self.raw = pd.read_csv(fname, **kwargs)\n",
    "        self.data = self.raw.copy()\n",
    "        \n",
    "    def encode(self, kind: str):\n",
    "        # update self.data with the appropriate encoder\n",
    "        # >>>\n",
    "        \n",
    "        # <<<\n",
    "        return\n",
    "    \n",
    "    def scale(self, kind: str):\n",
    "        # update self.data with the appropriate scaler\n",
    "        # >>>\n",
    "        \n",
    "        # <<<\n",
    "        return\n",
    "    \n",
    "    def plot(self, x: str, y: str, c: str):\n",
    "        # create axes and plot self.data onto it\n",
    "        # >>>\n",
    "        \n",
    "        # <<<\n",
    "        return\n",
    "    \n",
    "    def distance(self, index_1: int, index_2: int) -> float:\n",
    "        # use previous notes and scipy to get euclidean distance \n",
    "        # between two points in self.data, by their index\n",
    "        # >>>\n",
    "\n",
    "        # <<<\n",
    "        return \n",
    "    "
   ]
  },
  {
   "cell_type": "markdown",
   "metadata": {},
   "source": [
    "## Part II\n",
    "\n",
    "Now that you have created the class, it is time to use it to demonstrate why we do scaling and encoding at all. Use the `Preprocessor` class to import the following data, and for all of the following files, use the `Preprocessor` class to read the following files, and compare the distances between the data in the form of a histogram.\n",
    "\n",
    "Here are the documents:\n",
    "\n",
    "- `'data/300-data-1.csv'` [https://www.kaggle.com/camnugent/california-housing-prices](https://www.kaggle.com/camnugent/california-housing-prices)\n",
    "- `'data/300-data-2.csv'` [https://www.kaggle.com/vinesmsuic/star-categorization-giants-and-dwarfs](https://www.kaggle.com/vinesmsuic/star-categorization-giants-and-dwarfs)\n",
    "- `'data/300-data-3.csv'` [https://www.kaggle.com/prudhvignv/milk-grading](https://www.kaggle.com/prudhvignv/milk-grading)\n"
   ]
  },
  {
   "cell_type": "code",
   "execution_count": null,
   "metadata": {},
   "outputs": [],
   "source": []
  }
 ],
 "metadata": {
  "kernelspec": {
   "display_name": "Python 3",
   "language": "python",
   "name": "python3"
  },
  "language_info": {
   "codemirror_mode": {
    "name": "ipython",
    "version": 3
   },
   "file_extension": ".py",
   "mimetype": "text/x-python",
   "name": "python",
   "nbconvert_exporter": "python",
   "pygments_lexer": "ipython3",
   "version": "3.8.8"
  }
 },
 "nbformat": 4,
 "nbformat_minor": 4
}
