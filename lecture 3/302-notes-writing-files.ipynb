{
 "cells": [
  {
   "cell_type": "markdown",
   "metadata": {},
   "source": [
    "# Writing files\n",
    "\n",
    "Writing files in Python is generally done using the following syntax:\n",
    "\n",
    "```python\n",
    "with open(fname, 'w') as f:\n",
    "    f.write(string)\n",
    "```\n",
    "\n",
    "In this part of the lecture, we will be using this command with a combination of other different file-writing tools to speed up the process of writing different objects to standardised file formats."
   ]
  },
  {
   "cell_type": "markdown",
   "metadata": {},
   "source": [
    "## pandas\n",
    "\n",
    "If coded from scratch, writing tables to file would involve a large amount of `for` loops and `if` statements, especially if we needed to format a table to different types of file. However `pandas` has a large set of tools that can be used for this scope. \n",
    "\n",
    "Whereas for reading we used `pd.read_csv(...)` to read a CSV file into a table, for writing a table to the same file type we will use a method of the `pd.DataFrame` class, and it is called `pd.DataFrame.to_csv(...)`\n",
    "\n",
    "> Remember that a method is like a function that is specific to objects of a given class, and acts upon this objects. The way to call it is `name_Of_Object_Instance.NameOfMethod(some_argument)`\n",
    "\n",
    "For example:\n",
    "\n",
    "```python\n",
    "data = pd.DataFrame() #We declare data to be an instance of an object of class pd.DataFrame\n",
    "data.to_csv(fname) #We call the .to_csv method on data\n",
    "```"
   ]
  },
  {
   "cell_type": "code",
   "execution_count": 1,
   "metadata": {},
   "outputs": [],
   "source": [
    "import pandas as pd\n",
    "\n",
    "data = pd.DataFrame([\n",
    "    [0.6, 0.8, 0.0],\n",
    "    [0.0, 0.6, 0.8],\n",
    "    [1.0, 0.0, 0.0],\n",
    "    [0.0, 1.0, 0.0],\n",
    "])\n",
    "\n",
    "data.to_csv('202-test.csv')"
   ]
  },
  {
   "cell_type": "markdown",
   "metadata": {},
   "source": [
    "Running the above code creates a file with the following contents:\n",
    "\n",
    "```CSV\n",
    ",0,1,2\n",
    "0,0.6,0.8,0.0\n",
    "1,0.0,0.6,0.8\n",
    "2,1.0,0.0,0.0\n",
    "3,0.0,1.0,0.0\n",
    "```\n",
    "\n",
    "The first column are the headers of the `DataFrame` object (`DataFrame.columns`), and the first column is the `DataFrame.index`. There are a number of ways to edit these properties, either through renaming or by changing the arguments of the `DataFrame.to_csv` method.\n",
    "\n",
    "| Code  | Result |\n",
    "| :--- | :--- |\n",
    "|`data.to_csv('data.csv')` | `,0,1,2`<br>`0,0.6,0.8,0.0`<br>`1,0.0,0.6,0.8`<br>`2,1.0,0.0,0.0`<br>`3,0.0,1.0,0.0`|\n",
    "|`data.to_csv('data.csv', index=False)` | `0,1,2`<br>`0.6,0.8,0.0`<br>`0.0,0.6,0.8`<br>`1.0,0.0,0.0`<br>`0.0,1.0,0.0`|\n",
    "|`data.to_csv('data.csv', index=False, header=False)` | `0.6,0.8,0.0`<br>`0.0,0.6,0.8`<br>`1.0,0.0,0.0`<br>`0.0,1.0,0.0`|\n",
    "|`data.to_csv('data.csv', index=False, header=False, sep=' ')` | `0.6 0.8 0.0`<br>`0.0 0.6 0.8`<br>`1.0 0.0 0.0`<br>`0.0 1.0 0.0`|"
   ]
  },
  {
   "cell_type": "markdown",
   "metadata": {},
   "source": [
    "## JSON\n",
    "\n",
    "JSON files are very useful for the portability of non-tabular data structures.  \n",
    "They are widely used in mainstream and commercial applications outside of scientific computing to transport data, particularly in web applications. Advanced database technologies (e.g. mongoDB) and static high-memory file formats (e.g. HDF5) use the JavaScript Object format (although the data is stored as binary data rather than text) to manage complex data structures. The added bonus of using JSON-type files is that tabular data can easily by stored within them (although writing this to file is not trivial).\n",
    "\n",
    "> Whilst the name JavaScript Object Notation might raise questions because we are working in Python, the name merely represents a standardised file format that is portable between different softwares and languages.\n",
    "\n",
    "A JavaScript Object can be treated in the same way as a dictionary, and to write JSON-files, dictionaries must be used. In this example, a dictionary will be created and written to a JSON file using the `json` package.\n",
    "\n",
    "Below is an example where a JSON file is created, notice how unlike a table where there is a strict naming convention for all of the entries, here there are different keys for each entry.\n",
    "\n",
    "Notice how in `data['Lois']` there is a nested key:value pair so that the `type` of `data['Lois']['hair']` is a `dict`. "
   ]
  },
  {
   "cell_type": "code",
   "execution_count": 1,
   "metadata": {},
   "outputs": [],
   "source": [
    "import json\n",
    "\n",
    "data = {\n",
    "    'Brian': {\n",
    "        'kind': 'dog',\n",
    "        'colour': 'white',\n",
    "        'owner': 'Peter',\n",
    "        'collar': 'red'\n",
    "    },\n",
    "    'Peter': {\n",
    "        'kind': 'human',\n",
    "        'nationality': 'American',\n",
    "        'marital_status': 'Married',\n",
    "        'gender': 'male'\n",
    "    },\n",
    "    'Lois': {\n",
    "        'kind': 'human',\n",
    "        'marital_status': 'Married',\n",
    "        'nationality': 'American',\n",
    "        'gender': 'female',\n",
    "        'hair': {\n",
    "            'colour': 'red',\n",
    "            'length': 'medium'\n",
    "        }\n",
    "    }\n",
    "}\n",
    "\n",
    "with open('202-test-dumps.json', 'w') as f:\n",
    "    f.write(json.dumps(data, indent=2))\n",
    "    \n",
    "with open('202-test-dump.json', 'w') as f:\n",
    "    json.dump(data, f, indent=2)"
   ]
  }
 ],
 "metadata": {
  "kernelspec": {
   "display_name": "Python 3 (ipykernel)",
   "language": "python",
   "name": "python3"
  },
  "language_info": {
   "codemirror_mode": {
    "name": "ipython",
    "version": 3
   },
   "file_extension": ".py",
   "mimetype": "text/x-python",
   "name": "python",
   "nbconvert_exporter": "python",
   "pygments_lexer": "ipython3",
   "version": "3.10.9"
  }
 },
 "nbformat": 4,
 "nbformat_minor": 4
}
