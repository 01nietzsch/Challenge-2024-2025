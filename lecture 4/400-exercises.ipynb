{
 "cells": [
  {
   "cell_type": "markdown",
   "metadata": {},
   "source": [
    "# Lecture 4 - Exercise\n",
    "\n",
    "In this exercise you will try to optimise a decision tree algorithm, and ensure that it is possible to output a metric. (<i>hint: use a `class`</i>)\n",
    "\n",
    "After this you will generate some data using the following function. The function is designed to be discontinuous, meaning that a regular linear regression model will fail to predict values accurately.\n",
    "\n",
    "Finally, you will compare your own decision tree model to the `LinearRegression` class and the `RandomForestRegressor` class in `scikit-learn`. It will be important to plot your data so that someone else can instantly see which model gives the best performance."
   ]
  },
  {
   "cell_type": "markdown",
   "metadata": {},
   "source": [
    "## Design your own optimised Decision Tree\n",
    "\n",
    "Using the notes, modify the previously provided decision tree function to incorporate the following features:\n",
    "\n",
    "1. Add the keyword argument `M`, where `M` is less than the total number for input variables\n",
    "2. Randomly create a subset of `M` input variables (i.e. column indices, e.g. if `M = 3`, `columns = [1, 4, 7]`)\n",
    "3. For each of the indices, calculate the variance `y`\n",
    "4. Use the column with the highest variance\n",
    "5. Add the keyword argument `P`, where `P` is the number of partitions to attempt\n",
    "6. Using the column with highest variance, create `P` partitions and calculate the average variance of the two resultant sections of data\n",
    "7. Use the partition with the lowest average variance\n",
    "8. Add the keyword argument `tolerance`, where `tolerance` is the minimum value for the variance before stopping\n",
    "9. Repeat steps 2, 3, 4, 6, 7 until the average variance is less than `tolerance`\n",
    "10. Decide which side of the partition the test value is\n",
    "11. Return the mean of all values within this partition as the predicted value"
   ]
  },
  {
   "cell_type": "markdown",
   "metadata": {},
   "source": [
    "## Compare performance of your decision tree and the `LinearRegression` amd `RandomForestRegressor` classes\n",
    "\n",
    "The data file to use is `'data/400-wine-quality.csv'`. This file has already been preprocessed. The output data column is called `'quality'`.\n",
    "\n",
    "> Use the tasks for lecture 404 as a template for doing this"
   ]
  },
  {
   "cell_type": "code",
   "execution_count": 1,
   "metadata": {},
   "outputs": [],
   "source": [
    "import pandas as pd\n",
    "data = pd.read_csv('data/400-wine-quality-preprocessed.csv')"
   ]
  },
  {
   "cell_type": "code",
   "execution_count": null,
   "metadata": {},
   "outputs": [],
   "source": []
  }
 ],
 "metadata": {
  "kernelspec": {
   "display_name": "Python 3",
   "language": "python",
   "name": "python3"
  },
  "language_info": {
   "codemirror_mode": {
    "name": "ipython",
    "version": 3
   },
   "file_extension": ".py",
   "mimetype": "text/x-python",
   "name": "python",
   "nbconvert_exporter": "python",
   "pygments_lexer": "ipython3",
   "version": "3.9.1"
  }
 },
 "nbformat": 4,
 "nbformat_minor": 4
}
