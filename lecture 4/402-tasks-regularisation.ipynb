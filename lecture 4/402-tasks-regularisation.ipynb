{
 "cells": [
  {
   "cell_type": "code",
   "execution_count": null,
   "id": "cf184221",
   "metadata": {},
   "outputs": [],
   "source": [
    "import numpy as np\n",
    "import matplotlib.pyplot as plt\n",
    "import pandas as pd"
   ]
  },
  {
   "cell_type": "code",
   "execution_count": null,
   "id": "14289a75",
   "metadata": {},
   "outputs": [],
   "source": [
    "from sklearn.linear_model import Ridge, Lasso, ElasticNet"
   ]
  },
  {
   "cell_type": "code",
   "execution_count": null,
   "id": "7a5602cf",
   "metadata": {},
   "outputs": [],
   "source": [
    "# read data\n",
    "data = pd.<...>('data/400-regression.csv')\n",
    "\n",
    "# get training data\n",
    "n_rows = <...>(<...> * 0.2)\n",
    "\n",
    "# get numpy array\n",
    "X = <...>\n",
    "y = <...>\n",
    "\n",
    "# do split\n",
    "X_train = <...>\n",
    "X_test = <...>\n",
    "y_train = <...>\n",
    "y_test = <...>\n",
    "\n",
    "# reshape x to ensure it is 2D\n",
    "X_train = <...>\n",
    "X_test = <...>"
   ]
  },
  {
   "cell_type": "code",
   "execution_count": null,
   "id": "f3a64599",
   "metadata": {},
   "outputs": [],
   "source": [
    "# do ridge regression\n",
    "ridge = Ridge(alpha=0.5).<...>(X_train, <...>)"
   ]
  },
  {
   "cell_type": "code",
   "execution_count": null,
   "id": "93a6879c",
   "metadata": {},
   "outputs": [],
   "source": [
    "# do lasso regression\n",
    "lasso = Lasso(<...>=0.01).fit(<...>, y_train)"
   ]
  },
  {
   "cell_type": "code",
   "execution_count": null,
   "id": "c8673654",
   "metadata": {},
   "outputs": [],
   "source": [
    "# do elasticnet regression\n",
    "elastic_net = ElasticNet(<...>=0.1, <...>=0.1).<...>(X_train, <...>)"
   ]
  },
  {
   "cell_type": "code",
   "execution_count": null,
   "id": "3b407297",
   "metadata": {},
   "outputs": [],
   "source": [
    "# plot results\n",
    "fig, ax = plt.subplots()\n",
    "ax.plot(X, <...>, 'ko', alpha=0.3)\n",
    "\n",
    "# loop over each model and plot results\n",
    "for model in <...>, lasso, <...>:\n",
    "    \n",
    "    # use limits of data for plotting lines\n",
    "    _x = np.array([<...>, <...>])\n",
    "    \n",
    "    # use one-liner to calculate predicted output data\n",
    "    _y = model.coef_ * _x + model.intercept_\n",
    "    \n",
    "    # get score for label\n",
    "    _score = model.score(X_test, y_test)\n",
    "    <...> = f'{model.__class__.__name__}: ({<...>})'\n",
    "    \n",
    "    # plot\n",
    "    <...>.plot(<...>, _y, '-', <...>=label)\n",
    "\n",
    "# show legend\n",
    "ax.<...>(frameon=False)"
   ]
  },
  {
   "cell_type": "code",
   "execution_count": null,
   "id": "9c94c7fa",
   "metadata": {},
   "outputs": [],
   "source": []
  },
  {
   "cell_type": "code",
   "execution_count": null,
   "id": "f7f887f8",
   "metadata": {},
   "outputs": [],
   "source": []
  }
 ],
 "metadata": {
  "kernelspec": {
   "display_name": "Python 3",
   "language": "python",
   "name": "python3"
  },
  "language_info": {
   "codemirror_mode": {
    "name": "ipython",
    "version": 3
   },
   "file_extension": ".py",
   "mimetype": "text/x-python",
   "name": "python",
   "nbconvert_exporter": "python",
   "pygments_lexer": "ipython3",
   "version": "3.8.8"
  }
 },
 "nbformat": 4,
 "nbformat_minor": 5
}
