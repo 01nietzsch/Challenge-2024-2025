{
 "cells": [
  {
   "cell_type": "code",
   "execution_count": 2,
   "id": "ed33893a",
   "metadata": {},
   "outputs": [],
   "source": [
    "import numpy as np\n",
    "import matplotlib.pyplot as plt\n",
    "import pandas as pd"
   ]
  },
  {
   "cell_type": "code",
   "execution_count": 3,
   "id": "2b01d7d6",
   "metadata": {},
   "outputs": [],
   "source": [
    "from sklearn.linear_model import LinearRegression"
   ]
  },
  {
   "cell_type": "code",
   "execution_count": 5,
   "id": "e5bc1bc2",
   "metadata": {},
   "outputs": [],
   "source": [
    "# load dataset\n",
    "data = pd.read_csv('data tasks/400-regression.csv')"
   ]
  },
  {
   "cell_type": "code",
   "execution_count": null,
   "id": "cf8fd6c5",
   "metadata": {},
   "outputs": [],
   "source": [
    "# get training data\n",
    "training_ratio = 0.2\n",
    "n_rows = int(<...> * training_ratio)"
   ]
  },
  {
   "cell_type": "code",
   "execution_count": null,
   "id": "74bef9a4",
   "metadata": {},
   "outputs": [],
   "source": [
    "# convert to numpy arrays\n",
    "X = data['x'].<...>()\n",
    "y = <...>['y'].<...>()\n",
    "\n",
    "# do split\n",
    "X_train = X[:<...>]\n",
    "X_test = X[<...>]\n",
    "y_train = y[<...>]\n",
    "y_test = y[<...>]\n",
    "\n",
    "# reshape X data to ensure it is 2D\n",
    "X_train = X_train.reshape(-1, <...>)\n",
    "X_test = X_test.<...>(<...>)"
   ]
  },
  {
   "cell_type": "code",
   "execution_count": null,
   "id": "22609954",
   "metadata": {},
   "outputs": [],
   "source": [
    "# create linear regression object\n",
    "regressor = LinearRegression()"
   ]
  },
  {
   "cell_type": "code",
   "execution_count": null,
   "id": "f0cd112d",
   "metadata": {},
   "outputs": [],
   "source": [
    "# fit the data\n",
    "<...>.fit(<...>, y_train)"
   ]
  },
  {
   "cell_type": "code",
   "execution_count": null,
   "id": "6fe2e9f2",
   "metadata": {},
   "outputs": [],
   "source": [
    "# get coeffs\n",
    "print(<...>.coef_)\n",
    "print(regressor.<...>)"
   ]
  },
  {
   "cell_type": "code",
   "execution_count": null,
   "id": "223b4ee0",
   "metadata": {},
   "outputs": [],
   "source": [
    "# print score\n",
    "regressor.score(<...>, <...>)"
   ]
  },
  {
   "cell_type": "code",
   "execution_count": null,
   "id": "da7340c6",
   "metadata": {},
   "outputs": [],
   "source": [
    "# plot data and model\n",
    "fig, <...> = plt.<...>()\n",
    "ax.plot(<...>, <...>, 'kx')\n",
    "\n",
    "# get x-axis data for plot\n",
    "_x = np.array([min(X), max(X)])\n",
    "\n",
    "# get y-axis data\n",
    "_y = <...> * x + <...>\n",
    "\n",
    "# plot\n",
    "<...>.plot(_x, <...>, 'b-')"
   ]
  },
  {
   "cell_type": "code",
   "execution_count": null,
   "id": "426a4b2d",
   "metadata": {},
   "outputs": [],
   "source": []
  }
 ],
 "metadata": {
  "kernelspec": {
   "display_name": "Python 3",
   "language": "python",
   "name": "python3"
  },
  "language_info": {
   "codemirror_mode": {
    "name": "ipython",
    "version": 3
   },
   "file_extension": ".py",
   "mimetype": "text/x-python",
   "name": "python",
   "nbconvert_exporter": "python",
   "pygments_lexer": "ipython3",
   "version": "3.12.4"
  }
 },
 "nbformat": 4,
 "nbformat_minor": 5
}
