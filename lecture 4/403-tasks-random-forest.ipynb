{
 "cells": [
  {
   "cell_type": "code",
   "execution_count": null,
   "id": "724b7018",
   "metadata": {},
   "outputs": [],
   "source": [
    "import numpy as np\n",
    "import matplotlib.pyplot as plt\n",
    "import pandas as pd"
   ]
  },
  {
   "cell_type": "code",
   "execution_count": null,
   "id": "4aa7fd89",
   "metadata": {},
   "outputs": [],
   "source": [
    "from sklearn.ensemble import RandomForestRegressor"
   ]
  },
  {
   "cell_type": "code",
   "execution_count": null,
   "id": "f25bf09e",
   "metadata": {},
   "outputs": [],
   "source": [
    "# create function load data and return training and test datasets\n",
    "def load(fname: str, training_ratio: float) -> tuple:\n",
    "    \"\"\"Loads 2 column data from a CSV file with 2 columns, x and y\"\"\"\n",
    "    # read data\n",
    "    data = <...>\n",
    "\n",
    "    # get training data\n",
    "    n_rows = <...>\n",
    "\n",
    "    # get numpy array\n",
    "    X = <...>\n",
    "    y = <...>\n",
    "\n",
    "    # do split\n",
    "    X_train = <...>\n",
    "    X_test = <...>\n",
    "    y_train = <...>\n",
    "    y_test = <...>\n",
    "    \n",
    "    # reshape x to ensure it is 2D\n",
    "    X_train = <...>\n",
    "    X_test = <...>\n",
    "    \n",
    "    # return all\n",
    "    return X, y, X_train, y_train, X_test, y_test\n",
    "\n",
    "X, y, X_train, y_train, X_test, y_test = load('data/400-regression.csv', 0.05)"
   ]
  },
  {
   "cell_type": "code",
   "execution_count": null,
   "id": "a6b39c11",
   "metadata": {},
   "outputs": [],
   "source": [
    "# load dataset\n",
    "X, y, X_train, y_train, X_test, y_test = load('data/400-regression.csv', 0.05)"
   ]
  },
  {
   "cell_type": "code",
   "execution_count": null,
   "id": "5f3cc0f2",
   "metadata": {},
   "outputs": [],
   "source": [
    "# do regression\n",
    "regressor = <...>.<...>(X_train, <...>)"
   ]
  },
  {
   "cell_type": "code",
   "execution_count": null,
   "id": "b1c8bcd8",
   "metadata": {},
   "outputs": [],
   "source": [
    "# get predictions\n",
    "_x = np.array(sorted(X_test)).reshape(<...>)\n",
    "_y = regressor.predict(<...>)\n",
    "\n",
    "# make axes and plot training data with predicted data\n",
    "fig, ax = plt.subplots()\n",
    "ax.<...>(X, <...>, 'kx')\n",
    "<...>(<...>, _y, 'b-')\n",
    "print(<...>.score(X_test, <...>))"
   ]
  },
  {
   "cell_type": "code",
   "execution_count": null,
   "id": "c51208ff",
   "metadata": {},
   "outputs": [],
   "source": []
  }
 ],
 "metadata": {
  "kernelspec": {
   "display_name": "Python 3",
   "language": "python",
   "name": "python3"
  },
  "language_info": {
   "codemirror_mode": {
    "name": "ipython",
    "version": 3
   },
   "file_extension": ".py",
   "mimetype": "text/x-python",
   "name": "python",
   "nbconvert_exporter": "python",
   "pygments_lexer": "ipython3",
   "version": "3.8.8"
  }
 },
 "nbformat": 4,
 "nbformat_minor": 5
}
