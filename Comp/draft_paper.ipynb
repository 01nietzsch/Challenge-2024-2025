{
 "cells": [
  {
   "cell_type": "code",
   "execution_count": 4,
   "metadata": {},
   "outputs": [
    {
     "name": "stdout",
     "output_type": "stream",
     "text": [
      "[[ 0.         80.0312439  81.29575635]\n",
      " [80.0312439   0.         15.8113883 ]\n",
      " [81.29575635 15.8113883   0.        ]]\n",
      "(3, 3)\n"
     ]
    }
   ],
   "source": [
    "import numpy as np\n",
    "from sklearn.metrics.pairwise import euclidean_distances\n",
    "\n",
    "# Example compositional data (3 samples, 7 elements)\n",
    "comp_data = np.array([\n",
    "    [100, 20, 30, 2, 1, 2, 10],\n",
    "    [20, 18, 30, 2, 1, 1, 10],\n",
    "    [20, 30, 40, 0, 0, 0, 10]\n",
    "])\n",
    "\n",
    "# Compute the distance matrix\n",
    "distances = euclidean_distances(comp_data)\n",
    "\n",
    "print(distances)\n",
    "print(distances.shape)"
   ]
  }
 ],
 "metadata": {
  "kernelspec": {
   "display_name": "base",
   "language": "python",
   "name": "python3"
  },
  "language_info": {
   "codemirror_mode": {
    "name": "ipython",
    "version": 3
   },
   "file_extension": ".py",
   "mimetype": "text/x-python",
   "name": "python",
   "nbconvert_exporter": "python",
   "pygments_lexer": "ipython3",
   "version": "3.11.5"
  }
 },
 "nbformat": 4,
 "nbformat_minor": 2
}
