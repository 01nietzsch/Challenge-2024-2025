{
 "cells": [
  {
   "cell_type": "markdown",
   "metadata": {},
   "source": [
    "# Classification Exercise\n",
    "\n",
    "In this example, you will be presented with some preprocessed data to performing machine learning classification on.\n",
    "\n",
    "An experiment on the effects of anti-anxiety medicine on memory recall when being primed with happy or sad memories. The participants were done on novel Islanders whom mimic real-life humans in response to external factors. The group of 198 participants were given one of three drugs:\n",
    "\n",
    "- A - Alprazolam (Xanax, Long-term) (1mg/3mg/5mg)\n",
    "- T - Triazolam (Halcion, Short-term) (0.25mg/0.5mg/0.75mg)\n",
    "- S - Sugar Tablet (Placebo) (1 tab/2tabs/3tabs)\n",
    "\n",
    "The preprocessed data can be found in `'data/500-anxiety-drugs-preprocessed.csv'` and the aim of the exercise is to predict which drug has been administered to a patient, stored in the column called `'drug'` - to learn more about the dataset, you can visit this [link](https://www.kaggle.com/steveahn/memory-test-on-drugged-islanders-data)\n",
    "\n",
    "To do this, you are expected to only use `scikit-learn` to complete the following tasks to ensure that you are creating a model that performs consistently regardless of the train-test split. This checklist can be performed in the order that the user deems most appropriate. It is important to follow the links provided and use the examples to inform your implementation.\n",
    "\n",
    "- Use `train_test_split` from `scikit-learn` [link](https://scikit-learn.org/stable/modules/generated/sklearn.model_selection.train_test_split.html)\n",
    "- Use one of the cross validation classes from `sklearn.cross_validation` [link](https://scikit-learn.org/stable/modules/cross_validation.html)\n",
    "- Choose <b>ANY</b> of the classification classes from `scikit-learn` [link](https://scikit-learn.org/stable/supervised_learning.html#supervised-learning)\n",
    "- Choose <b>ANY</b> set of hyper-parameters for these classes\n",
    "- Choose <b>ANY</b> metric from `sklearn.metrics` [link](https://scikit-learn.org/stable/modules/model_evaluation.html)\n",
    "- Create a model that you think will perform best if any new data is to be provided"
   ]
  },
  {
   "cell_type": "code",
   "execution_count": 2,
   "metadata": {},
   "outputs": [],
   "source": [
    "import pandas as pd\n",
    "data = pd.read_csv('data problems/500-anxiety-drugs-preprocessed.csv')"
   ]
  },
  {
   "cell_type": "code",
   "execution_count": null,
   "metadata": {},
   "outputs": [],
   "source": []
  }
 ],
 "metadata": {
  "kernelspec": {
   "display_name": "Python 3",
   "language": "python",
   "name": "python3"
  },
  "language_info": {
   "codemirror_mode": {
    "name": "ipython",
    "version": 3
   },
   "file_extension": ".py",
   "mimetype": "text/x-python",
   "name": "python",
   "nbconvert_exporter": "python",
   "pygments_lexer": "ipython3",
   "version": "3.12.4"
  }
 },
 "nbformat": 4,
 "nbformat_minor": 4
}
