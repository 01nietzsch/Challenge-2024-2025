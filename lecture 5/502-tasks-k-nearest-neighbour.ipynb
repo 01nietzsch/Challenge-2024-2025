{
 "cells": [
  {
   "cell_type": "code",
   "execution_count": 2,
   "id": "85f7e584",
   "metadata": {},
   "outputs": [],
   "source": [
    "# import packages\n",
    "import numpy as np\n",
    "import pandas as pd\n",
    "import matplotlib.pyplot as plt\n",
    "from sklearn.neighbors import KNeighborsClassifier"
   ]
  },
  {
   "cell_type": "code",
   "execution_count": 3,
   "id": "ecced560",
   "metadata": {},
   "outputs": [],
   "source": [
    "# import data and make splits\n",
    "data = <...>('data/500-stars-preprocessed.csv')\n",
    "data"
   ]
  },
  {
   "cell_type": "code",
   "execution_count": 4,
   "id": "f3747cec",
   "metadata": {},
   "outputs": [],
   "source": [
    "# Make class to run algorithm with different k values\n",
    "\n",
    "# here we will subclass the original class - this means that we can directly use its functionality\n",
    "# this is commonly known as a wrapper, and it will allow us to iterate over different K values easily\n",
    "# whilst minimising the amount of code needed, improving performance (slightly) and readability\n",
    "\n",
    "class KNNWrapper(KNeighborsClassifier):\n",
    "    def __init__(<...>, _k: int, _data: pd.DataFrame, training_fraction: float = 0.1, y_column: str = 'Type'):\n",
    "        \n",
    "        # allocate data to attribute\n",
    "        self.data = <...>\n",
    "        \n",
    "        # initialise parent class\n",
    "        super().<...>(_k)\n",
    "        \n",
    "        # do splitting\n",
    "        X_columns = list(<...>)\n",
    "        X_columns.remove(<...>)\n",
    "        n_rows = <...>\n",
    "        \n",
    "        # allocate X and y to self.X and self.y\n",
    "        self.X = <...>\n",
    "        self.y = <...>\n",
    "        \n",
    "        # get X_train and X_test\n",
    "        self.X_train = <...>\n",
    "        self.X_test = <...>\n",
    "        \n",
    "        # get y_train and y_test\n",
    "        self.y_train = <...>\n",
    "        self.y_test = <...>\n",
    "        \n",
    "        # fit\n",
    "        <...>.fit(<...>)\n",
    "        \n",
    "        # get predicted data and allocate to self.y_pred\n",
    "        self.y_pred = self.<...>(self.X_test)\n",
    "        \n",
    "    def get_score(self) -> float:\n",
    "        return self.<...>(self.X_test, <...>)\n",
    "        "
   ]
  },
  {
   "cell_type": "code",
   "execution_count": 5,
   "id": "79ec7ebe",
   "metadata": {},
   "outputs": [],
   "source": [
    "# measure performance against test data for different k values\n",
    "k_values = list(range(1, 6))\n",
    "models = []\n",
    "for k in k_values:\n",
    "    model = <...>(k, data)\n",
    "    models.<...>(model)"
   ]
  },
  {
   "cell_type": "code",
   "execution_count": 9,
   "id": "881097ac",
   "metadata": {},
   "outputs": [
    {
     "data": {
      "image/png": "[encoded data removed]",
      "text/plain": [
       "<Figure size 432x288 with 1 Axes>"
      ]
     },
     "metadata": {
      "needs_background": "light"
     },
     "output_type": "display_data"
    }
   ],
   "source": [
    "# get scores using one-liner\n",
    "scores = [model.<...> for model in models]\n",
    "\n",
    "# plot result\n",
    "fig, ax = <...>\n",
    "ax.bar(<...>)\n",
    "ax.<...>('Number of Neighbours')\n",
    "ax.<...>_ylabel('Score')\n",
    "\n",
    "None"
   ]
  },
  {
   "cell_type": "code",
   "execution_count": null,
   "id": "1f1c1db5",
   "metadata": {},
   "outputs": [],
   "source": []
  }
 ],
 "metadata": {
  "kernelspec": {
   "display_name": "Python 3",
   "language": "python",
   "name": "python3"
  },
  "language_info": {
   "codemirror_mode": {
    "name": "ipython",
    "version": 3
   },
   "file_extension": ".py",
   "mimetype": "text/x-python",
   "name": "python",
   "nbconvert_exporter": "python",
   "pygments_lexer": "ipython3",
   "version": "3.8.8"
  }
 },
 "nbformat": 4,
 "nbformat_minor": 5
}
