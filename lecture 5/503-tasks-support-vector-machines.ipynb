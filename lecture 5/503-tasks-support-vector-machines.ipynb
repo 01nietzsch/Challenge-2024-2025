{
 "cells": [
  {
   "cell_type": "code",
   "execution_count": 6,
   "id": "f86f08e7",
   "metadata": {},
   "outputs": [],
   "source": [
    "# import packages\n",
    "import numpy as np\n",
    "import pandas as pd\n",
    "import matplotlib.pyplot as plt\n",
    "\n",
    "from sklearn import svm"
   ]
  },
  {
   "cell_type": "code",
   "execution_count": 44,
   "id": "eb4c2636",
   "metadata": {},
   "outputs": [],
   "source": [
    "# import data\n",
    "data = pd.read_csv('data/500-stars-preprocessed.csv')\n",
    "\n",
    "# the y column is Type, separate X and y columns\n",
    "y_column = <...>\n",
    "X_columns = <...>\n",
    "X_columns.remove(<...>)\n",
    "\n",
    "# get X and y data\n",
    "X = <...>\n",
    "y = <...>\n",
    "\n",
    "# make train test split \n",
    "training_fraction = 0.1\n",
    "n_rows = <...>\n",
    "X_train = <...>\n",
    "X_test = <...>\n",
    "y_train = <...>\n",
    "y_test = <...>"
   ]
  },
  {
   "cell_type": "code",
   "execution_count": 65,
   "id": "e0e6bd46",
   "metadata": {},
   "outputs": [],
   "source": [
    "# Create a list of models\n",
    "C = 5.0\n",
    "models = (\n",
    "    svm.SVC(kernel='linear', C=C),\n",
    "    svm.LinearSVC(C=C, max_iter=10000),\n",
    "    svm.SVC(kernel='rbf', gamma=0.1, C=C),\n",
    "    svm.SVC(kernel='poly', degree=1.5, gamma='auto', C=C)\n",
    ")\n",
    "\n",
    "# create names to put on the x-axis\n",
    "names = [\n",
    "    'SVC - Linear',\n",
    "    'LinearSVC',\n",
    "    'SVC - RBF (0.1)',\n",
    "    'SVC - Polynomial (1.5)'\n",
    "]\n",
    "\n",
    "# fit the models using one-liner\n",
    "models = (clf.<...>(<...>) for clf in models)\n",
    "\n",
    "# get scores using one-liner\n",
    "scores = [clf.score(<...>) for clf in models]"
   ]
  },
  {
   "cell_type": "code",
   "execution_count": 67,
   "id": "958a60c3",
   "metadata": {},
   "outputs": [
    {
     "name": "stderr",
     "output_type": "stream",
     "text": [
      "<ipython-input-67-c5a18c9a97c1>:12: UserWarning: FixedFormatter should only be used together with FixedLocator\n",
      "  ax.set_xticklabels(names, rotation=45)\n"
     ]
    },
    {
     "data": {
      "image/png": "[encoded data removed]",
      "text/plain": [
       "<Figure size 432x288 with 1 Axes>"
      ]
     },
     "metadata": {
      "needs_background": "light"
     },
     "output_type": "display_data"
    }
   ],
   "source": [
    "# plot results\n",
    "fig, <...> = plt.subplots()\n",
    "\n",
    "# plot bar chart\n",
    "ax.bar(<...>)\n",
    "\n",
    "# label axes\n",
    "ax.set_xlabel('Model Type')\n",
    "ax.<...>('Score')\n",
    "\n",
    "# rotate labels\n",
    "ax.set_xticklabels(<...>, rotation=45)\n",
    "\n",
    "None"
   ]
  },
  {
   "cell_type": "code",
   "execution_count": null,
   "id": "43982e59",
   "metadata": {},
   "outputs": [],
   "source": []
  }
 ],
 "metadata": {
  "kernelspec": {
   "display_name": "Python 3",
   "language": "python",
   "name": "python3"
  },
  "language_info": {
   "codemirror_mode": {
    "name": "ipython",
    "version": 3
   },
   "file_extension": ".py",
   "mimetype": "text/x-python",
   "name": "python",
   "nbconvert_exporter": "python",
   "pygments_lexer": "ipython3",
   "version": "3.8.8"
  }
 },
 "nbformat": 4,
 "nbformat_minor": 5
}
