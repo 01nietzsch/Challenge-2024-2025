{
 "cells": [
  {
   "cell_type": "markdown",
   "id": "9720c63e",
   "metadata": {},
   "source": [
    "# 2022/2023 Coding Challenge: \"CSI @ Imperial Materials Edition\"\n",
    "\n",
    "> This year, the coding challenge will be to use real-world data to build and validate a Machine Learning model to **analyse evidence in a criminal investigation**. A glass sample has been found and it is up to you, the knowledgeable material scientist, to characterise the glass, correlating the results with existing databases, **to decide if the criminals were at the scene of the crime!** <br > *(CSI = \"Crime Scene Investigation\", an (old) tv series https://en.wikipedia.org/wiki/CSI:_Crime_Scene_Investigation )*"
   ]
  },
  {
   "cell_type": "markdown",
   "id": "c2c7b75c",
   "metadata": {},
   "source": [
    "## 1. Context and Scope of the Challenge\n",
    "\n",
    "Glass is used in a wide variety of consumer and commercial applications. Its function is defined by its composition and in forensic sciences, the material composition of glass as well as its refractive index can be used to identify the type of glass and where it came from.\n",
    "\n",
    "You are a material science expert that has been brought into a criminal investigation involving a high profile robbery of a prominent political figure. The gang have a set of old vehicles whose windows are made using classical float-driven techniques, and claim that these rare vehicles were not at the scene of the crime...but are they lieing?\n",
    "\n",
    "There are 8 samples extracted from the scene of the crime, all of which are from different sources. Your task is to identify if any of the samples are from vehicle windows that are float processed, since if any are found, then the criminals can be convicted.\n",
    "\n",
    "The US, UK and EU each have a glass database that you can use for fitting your model. Unfortunately, they all use different data standards. The UK use CSV files, the EU JSON files where samples are not grouped, and the US JSON files where samples are grouped by governmental department. To make things additionally awkward, each country uses a different set of standards when measuring glass properties. \n",
    "\n",
    "The classifications are:\n",
    "\n",
    "| Type | Class |\n",
    "| :-: | :-: |\n",
    "| 1 | Building windows that are float processed |\n",
    "| 2 | Building windows that are not float processed |\n",
    "| 3 | Vehicle windows that are float processed |\n",
    "| 4 | Vehicle windows that are not float processed |\n",
    "| 5 | Containers |\n",
    "| 6 | Tableware |\n",
    "| 7 | Headlamps |\n",
    "\n",
    "**Your goal is to build a classifier that, based on these features, allows to predict whether or not the suspects were at the scene of the crime.**"
   ]
  },
  {
   "cell_type": "markdown",
   "id": "0a214f32",
   "metadata": {},
   "source": [
    "## 2. A few details / tips\n",
    "\n",
    "In solving this challenge, consider the following steps:\n",
    "\n",
    "1. **Check if you need to do any pre-processing on the data** (cleaning, encoding, ...). In doing this, also ask yourself: are all the features necessary at all for predicting whether or not the glass samples found belonged to the suspects, or should some of them be removed altogether because they are physically irrelevant and could bias results? If some features are missing for a given glass sample, should you replace them with an average value, or simply remove that feature altogether?\n",
    "2. Build your classifier using sci-kit learn functionalities. This mean you will have to **rationally choose a type of classifier** based on the data and problem provided, split the data, do training and testing, and analyse the results of the choices of the hyper-parameters, if you have any. You will also need to comment on the choice of classifier, and justify the choice of parameters with an analysis of their effect.\n",
    "3. Finally, you will need to use what you have done in step 1) and 2) to **identify the single feature which is mostly correlated to a good prediction**. More precisely, identify which feature, if taken out of the classifier, would decrease the predictivity of the classifier the most. This last part should be summarised in an interactive graph, whereby a user can click a button to see the effect of removing any particular feature. \n"
   ]
  },
  {
   "cell_type": "markdown",
   "id": "d080d4eb",
   "metadata": {},
   "source": [
    "## 3. Practicalities\n",
    "\n",
    "### 3.1 Output requested\n",
    "\n",
    "You will have to both provide a code in the form of a **Jupyter Notebook**. This notebook must contain:\n",
    "\n",
    "1) The code implementing the classifier (this include pre-processing, training, testing and so on).  \n",
    "2) A second part with an analysis of the predictivity of the classifier, depending on the choices made for the various parameters that you can use  \n",
    "3) An interactive graph that summarises the relative importance of different variables (see below for details)  \n",
    "\n",
    "You can provide the 3 parts as a single or multiple notebooks, it is up to you. For those who prefer to work in \"pure Python\", you can also provide a code in .py format (in practice, a text file), so that it can be simply run from a Unix Terminal by typing python NameOfFile.py. If you don't know what this last part means...don't worry & just work on Jupyter Notebooks, it is actually the preferred option (but no deduction if you choose otherwise).\n",
    "\n",
    "**Tip**: you can use a series of Markdown and Code cells in Jupyter Notebooks to add report-like comments detailing the choices made and the reason behind them, when necessary. Markdown is the syntax used to generate these notes, you can find it here[https://www.makeuseof.com/tag/learning-markdown-write-web-faster/] \n",
    "\n",
    "\n",
    "### 3.2 Submission \n",
    "\n",
    "All members of the group must individually submit the very same code on Blackboard, following the usual guidelines. Submission deadline and penalties for late submission are specified in your year's Handbook.\n",
    "\n",
    "\n",
    "### 3.3 Marking\n",
    "\n",
    "Coding is a collaborative effort and all members of the group will receive exactly the same mark, so everybody is responsible for the work of everybody in the group. There is no exception to this rule, unless a person clearly does not contribute at all. In this case, this person will be given a 0 Mark.\n",
    "\n",
    "The marking will follow the following 5 criteria, each weighting the same:\n",
    "\n",
    "1. Correct use of Python and its common functionalities\n",
    "2. Readability & *Ae*sthetic of the code: adding comments when needed, detailing functions with help strings, use of the correct structures / classes, use of annotations,...\n",
    "3. Use of the correct functionalities in the packages covered during the lectures, especially regarding `sci-kit learn`\n",
    "4. Correct implementation of the pipeline to build and assess a ML algorithm\n",
    "5. Presentation and correctness of results"
   ]
  },
  {
   "cell_type": "markdown",
   "id": "88efcbc2",
   "metadata": {},
   "source": [
    "## 4. Final Remark\n",
    "\n",
    "Remember that if you need to ask questions you can access your GTA using the usual channels on Teams. They will be available during standard workshop days for the whole 3 hours.<br>\n",
    "\n",
    "**Good luck and enjoy this year's challenge!**"
   ]
  },
  {
   "cell_type": "code",
   "execution_count": null,
   "id": "1e6255b9",
   "metadata": {},
   "outputs": [],
   "source": []
  }
 ],
 "metadata": {
  "kernelspec": {
   "display_name": "Python 3 (ipykernel)",
   "language": "python",
   "name": "python3"
  },
  "language_info": {
   "codemirror_mode": {
    "name": "ipython",
    "version": 3
   },
   "file_extension": ".py",
   "mimetype": "text/x-python",
   "name": "python",
   "nbconvert_exporter": "python",
   "pygments_lexer": "ipython3",
   "version": "3.9.12"
  }
 },
 "nbformat": 4,
 "nbformat_minor": 5
}
